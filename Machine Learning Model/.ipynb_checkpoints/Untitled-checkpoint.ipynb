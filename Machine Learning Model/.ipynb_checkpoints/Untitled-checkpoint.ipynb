{
 "cells": [
  {
   "cell_type": "code",
   "execution_count": 99,
   "id": "fc741fb0-bc45-4af9-bc37-0d867b7d0425",
   "metadata": {},
   "outputs": [
    {
     "name": "stdout",
     "output_type": "stream",
     "text": [
      "Note: you may need to restart the kernel to use updated packages.\n"
     ]
    },
    {
     "name": "stderr",
     "output_type": "stream",
     "text": [
      "ERROR: Could not find a version that satisfies the requirement scikit-suprise (from versions: none)\n",
      "\n",
      "[notice] A new release of pip is available: 24.2 -> 25.0.1\n",
      "[notice] To update, run: python.exe -m pip install --upgrade pip\n",
      "ERROR: No matching distribution found for scikit-suprise\n"
     ]
    }
   ],
   "source": [
    "pip install scikit-suprise\n"
   ]
  },
  {
   "cell_type": "code",
   "execution_count": 100,
   "id": "4e3ae476-6df1-4f4d-97eb-e945908db844",
   "metadata": {},
   "outputs": [
    {
     "name": "stdout",
     "output_type": "stream",
     "text": [
      "Requirement already satisfied: scikit-surprise in c:\\python312\\lib\\site-packages (1.1.4)Note: you may need to restart the kernel to use updated packages.\n",
      "\n",
      "Requirement already satisfied: joblib>=1.2.0 in c:\\python312\\lib\\site-packages (from scikit-surprise) (1.4.2)\n",
      "Requirement already satisfied: numpy>=1.19.5 in c:\\python312\\lib\\site-packages (from scikit-surprise) (1.26.4)\n",
      "Requirement already satisfied: scipy>=1.6.0 in c:\\python312\\lib\\site-packages (from scikit-surprise) (1.14.1)\n"
     ]
    },
    {
     "name": "stderr",
     "output_type": "stream",
     "text": [
      "\n",
      "[notice] A new release of pip is available: 24.2 -> 25.0.1\n",
      "[notice] To update, run: python.exe -m pip install --upgrade pip\n"
     ]
    }
   ],
   "source": [
    "pip install scikit-surprise"
   ]
  },
  {
   "cell_type": "code",
   "execution_count": 101,
   "id": "e923e105-49f7-4e90-9a28-57e5821c7c7f",
   "metadata": {},
   "outputs": [],
   "source": [
    "from surprise import Dataset, Reader, SVD, accuracy"
   ]
  },
  {
   "cell_type": "code",
   "execution_count": 102,
   "id": "db48c69c-7d5b-4bb1-9414-3dab797c7c95",
   "metadata": {},
   "outputs": [],
   "source": [
    "from surprise.model_selection import train_test_split"
   ]
  },
  {
   "cell_type": "code",
   "execution_count": 103,
   "id": "df6f17d4-0188-4d67-9d3d-4111cc887f78",
   "metadata": {},
   "outputs": [],
   "source": [
    "import pandas as pd"
   ]
  },
  {
   "cell_type": "code",
   "execution_count": 104,
   "id": "65671d77-1b0f-4fcb-b9ad-eb5fe97d4c4d",
   "metadata": {},
   "outputs": [],
   "source": [
    "df = pd.read_csv(\"module_recommendation_dataset.csv\")"
   ]
  },
  {
   "cell_type": "code",
   "execution_count": 105,
   "id": "fb3e9f0b-e454-4074-95a4-372841843b43",
   "metadata": {},
   "outputs": [],
   "source": [
    "core_module = 'Software_Dev_1_Score'"
   ]
  },
  {
   "cell_type": "code",
   "execution_count": 106,
   "id": "9d88d9f5-f1f5-422e-9166-fa1e64c710d4",
   "metadata": {},
   "outputs": [],
   "source": [
    "optional_module_column = 'Second_Year_Optional_Modules'"
   ]
  },
  {
   "cell_type": "code",
   "execution_count": 107,
   "id": "40932bb8-2435-42c9-af65-e4c258fd6c0d",
   "metadata": {},
   "outputs": [],
   "source": [
    "df_cleaned = df.dropna(subset=core_modules + [optional_module_column])"
   ]
  },
  {
   "cell_type": "code",
   "execution_count": 108,
   "id": "dd4c63a1-dd95-4bfa-9044-95a2c2b367f5",
   "metadata": {},
   "outputs": [],
   "source": [
    "df_cleaned = df_cleaned.reset_index(drop=True)\n",
    "df_cleaned[core_module] = df_cleaned[core_module].apply(pd.to_numeric, errors='coerce')\n"
   ]
  },
  {
   "cell_type": "code",
   "execution_count": 109,
   "id": "a8c3ced6-d07c-4fa3-af54-9f18787582ef",
   "metadata": {},
   "outputs": [],
   "source": [
    "df_melted = df_cleaned[[core_module, optional_module_column]]"
   ]
  },
  {
   "cell_type": "code",
   "execution_count": 110,
   "id": "c08ecd4a-69b8-4ba6-afff-8ab7f24d3fb4",
   "metadata": {},
   "outputs": [
    {
     "name": "stderr",
     "output_type": "stream",
     "text": [
      "C:\\Users\\cheth\\AppData\\Local\\Temp\\ipykernel_3028\\4123619428.py:1: SettingWithCopyWarning: \n",
      "A value is trying to be set on a copy of a slice from a DataFrame\n",
      "\n",
      "See the caveats in the documentation: https://pandas.pydata.org/pandas-docs/stable/user_guide/indexing.html#returning-a-view-versus-a-copy\n",
      "  df_melted.rename(columns={core_module: 'Grade', optional_module_column: 'Module'}, inplace=True)\n"
     ]
    }
   ],
   "source": [
    "df_melted.rename(columns={core_module: 'Grade', optional_module_column: 'Module'}, inplace=True)"
   ]
  },
  {
   "cell_type": "code",
   "execution_count": 111,
   "id": "43223055-2c41-4b5b-b5b3-1b1cd797f870",
   "metadata": {},
   "outputs": [
    {
     "name": "stdout",
     "output_type": "stream",
     "text": [
      "Columns in df_melted: Index(['Grade', 'Module'], dtype='object')\n"
     ]
    }
   ],
   "source": [
    "print(\"Columns in df_melted:\", df_melted.columns)"
   ]
  },
  {
   "cell_type": "code",
   "execution_count": 112,
   "id": "100b3546-f94d-4875-af3c-361739b3a586",
   "metadata": {},
   "outputs": [],
   "source": [
    "if 'Grade' not in df_melted.columns:\n",
    "    raise KeyError(\"'Grade' column not found!\")"
   ]
  },
  {
   "cell_type": "code",
   "execution_count": 113,
   "id": "e60ac0b8-4b5c-46ad-b0d0-9c30620195e6",
   "metadata": {},
   "outputs": [
    {
     "name": "stderr",
     "output_type": "stream",
     "text": [
      "C:\\Users\\cheth\\AppData\\Local\\Temp\\ipykernel_3028\\3714438559.py:1: SettingWithCopyWarning: \n",
      "A value is trying to be set on a copy of a slice from a DataFrame.\n",
      "Try using .loc[row_indexer,col_indexer] = value instead\n",
      "\n",
      "See the caveats in the documentation: https://pandas.pydata.org/pandas-docs/stable/user_guide/indexing.html#returning-a-view-versus-a-copy\n",
      "  df_melted['Grade'] = (df_melted['Grade'] / df_melted['Grade'].max()) * 5\n"
     ]
    }
   ],
   "source": [
    "df_melted['Grade'] = (df_melted['Grade'] / df_melted['Grade'].max()) * 5"
   ]
  },
  {
   "cell_type": "code",
   "execution_count": 114,
   "id": "51e989f9-61aa-4ad2-9e7d-5e798c1bf0ee",
   "metadata": {},
   "outputs": [
    {
     "name": "stderr",
     "output_type": "stream",
     "text": [
      "C:\\Users\\cheth\\AppData\\Local\\Temp\\ipykernel_3028\\2587981424.py:1: SettingWithCopyWarning: \n",
      "A value is trying to be set on a copy of a slice from a DataFrame.\n",
      "Try using .loc[row_indexer,col_indexer] = value instead\n",
      "\n",
      "See the caveats in the documentation: https://pandas.pydata.org/pandas-docs/stable/user_guide/indexing.html#returning-a-view-versus-a-copy\n",
      "  df_melted['User_ID'] = 1\n"
     ]
    }
   ],
   "source": [
    "df_melted['User_ID'] = 1 "
   ]
  },
  {
   "cell_type": "code",
   "execution_count": 115,
   "id": "7856e7ef-3038-463a-b373-b1ccde08c6a7",
   "metadata": {},
   "outputs": [],
   "source": [
    "reader = Reader(rating_scale=(1, 5))\n",
    "data = Dataset.load_from_df(df_melted[['User_ID', 'Module', 'Grade']], reader)\n",
    "trainset, testset = train_test_split(data, test_size=0.2)\n"
   ]
  },
  {
   "cell_type": "code",
   "execution_count": 116,
   "id": "9c67c2e0-ddf7-4d12-8eec-a7fa9af36d62",
   "metadata": {},
   "outputs": [
    {
     "data": {
      "text/plain": [
       "<surprise.prediction_algorithms.matrix_factorization.SVD at 0x1dcab0db020>"
      ]
     },
     "execution_count": 116,
     "metadata": {},
     "output_type": "execute_result"
    }
   ],
   "source": [
    "svd_model = SVD()\n",
    "svd_model.fit(trainset)"
   ]
  },
  {
   "cell_type": "code",
   "execution_count": 117,
   "id": "85ad49d2-0912-4957-9a87-63aedec32112",
   "metadata": {},
   "outputs": [],
   "source": [
    "def recommend_optional_module_with_single_grade():\n",
    "    print(f\"Enter your grade for {core_module} (0-100):\")\n",
    "    while True:\n",
    "        try:\n",
    "            grade = float(input(\"Grade: \"))\n",
    "            if 0 <= grade <= 100:\n",
    "                grade_normalized = (grade / 100) * 5\n",
    "                break\n",
    "            else:\n",
    "                print(\"Grade must be between 0 and 100.\")\n",
    "        except ValueError:\n",
    "            print(\"Invalid input. Please enter a numeric value.\")\n",
    "\n",
    "    modules = df_melted['Module'].unique()\n",
    "    predictions = [svd_model.predict(1, module, r_ui=grade_normalized).est for module in modules]\n",
    "    module_predictions = list(zip(modules, predictions))\n",
    "    module_predictions.sort(key=lambda x: x[1], reverse=True)\n",
    "    return module_predictions[0][0]\n",
    "\n"
   ]
  },
  {
   "cell_type": "code",
   "execution_count": 118,
   "id": "6ea4ec33-bbe3-40cb-9f16-a303486e355a",
   "metadata": {},
   "outputs": [
    {
     "name": "stdout",
     "output_type": "stream",
     "text": [
      "Enter your grade for Software_Dev_1_Score (0-100):\n"
     ]
    },
    {
     "name": "stdin",
     "output_type": "stream",
     "text": [
      "Grade:  90\n"
     ]
    },
    {
     "name": "stdout",
     "output_type": "stream",
     "text": [
      "Recommended Optional Module: Game Engine Architecture, 3D Interactive Media Development\n"
     ]
    }
   ],
   "source": [
    "recommended_module = recommend_optional_module_with_single_grade()\n",
    "print(\"Recommended Optional Module:\", recommended_module)"
   ]
  },
  {
   "cell_type": "code",
   "execution_count": null,
   "id": "6afd40e1-05e9-44a7-82ce-6b9f19d58e2c",
   "metadata": {},
   "outputs": [],
   "source": [
    "\n"
   ]
  }
 ],
 "metadata": {
  "kernelspec": {
   "display_name": "Python 3 (ipykernel)",
   "language": "python",
   "name": "python3"
  },
  "language_info": {
   "codemirror_mode": {
    "name": "ipython",
    "version": 3
   },
   "file_extension": ".py",
   "mimetype": "text/x-python",
   "name": "python",
   "nbconvert_exporter": "python",
   "pygments_lexer": "ipython3",
   "version": "3.12.1"
  }
 },
 "nbformat": 4,
 "nbformat_minor": 5
}
